{
  "nbformat": 4,
  "nbformat_minor": 0,
  "metadata": {
    "colab": {
      "provenance": [],
      "authorship_tag": "ABX9TyM/LeKpErs+mgs44M9PTR5E",
      "include_colab_link": true
    },
    "kernelspec": {
      "name": "python3",
      "display_name": "Python 3"
    },
    "language_info": {
      "name": "python"
    }
  },
  "cells": [
    {
      "cell_type": "markdown",
      "metadata": {
        "id": "view-in-github",
        "colab_type": "text"
      },
      "source": [
        "<a href=\"https://colab.research.google.com/github/Martishamao/Formula-1-Analysis/blob/main/Project_2.ipynb\" target=\"_parent\"><img src=\"https://colab.research.google.com/assets/colab-badge.svg\" alt=\"Open In Colab\"/></a>"
      ]
    },
    {
      "cell_type": "markdown",
      "source": [
        "#Project 2\n",
        "- Martisha Owens\n",
        "- 9/29/2022"
      ],
      "metadata": {
        "id": "zVAZT1EnrLPI"
      }
    },
    {
      "cell_type": "markdown",
      "source": [
        "#DataSet 1\n"
      ],
      "metadata": {
        "id": "cp_Q3ErQry-a"
      }
    },
    {
      "cell_type": "markdown",
      "source": [
        "##1. Souce of data\n",
        "- Formula 1 World Championship (1950 - 2022)\n",
        "- https://www.kaggle.com/datasets/rohanrao/formula-1-world-championship-1950-2020?select=results.csv"
      ],
      "metadata": {
        "id": "pdj1yURNstn_"
      }
    },
    {
      "cell_type": "markdown",
      "source": [
        "##2. Brief description of data\n",
        "- The FIA Formula One World Championship results since 1950 to 2022. The dataset also consists of all information on the Formula 1 races, drivers, constructors, qualifying, circuits, lap times, and pit stops."
      ],
      "metadata": {
        "id": "kRZtbTHys3vp"
      }
    },
    {
      "cell_type": "code",
      "source": [
        "from google.colab import drive\n",
        "drive.mount('/content/drive')"
      ],
      "metadata": {
        "colab": {
          "base_uri": "https://localhost:8080/"
        },
        "id": "GCjrHeINvaIG",
        "outputId": "a6e2c44b-94ef-4836-e489-21ce9834dfb2"
      },
      "execution_count": 1,
      "outputs": [
        {
          "output_type": "stream",
          "name": "stdout",
          "text": [
            "Mounted at /content/drive\n"
          ]
        }
      ]
    },
    {
      "cell_type": "code",
      "source": [
        "import pandas as pd\n",
        "import numpy as np\n",
        "import matplotlib.pyplot as plt\n",
        "import seaborn as sns\n",
        "\n",
        "filename = '/content/drive/MyDrive/Coding Dojo/Project 2/results.csv'\n",
        "df1 = pd.read_csv(filename)\n",
        "df1.tail()"
      ],
      "metadata": {
        "colab": {
          "base_uri": "https://localhost:8080/",
          "height": 268
        },
        "id": "1_lH2R-lvlhg",
        "outputId": "18cf4193-ac1e-4673-d5b6-e4d1264914cc"
      },
      "execution_count": 21,
      "outputs": [
        {
          "output_type": "execute_result",
          "data": {
            "text/plain": [
              "       resultId  raceId  driverId  constructorId number  grid position  \\\n",
              "25655     25661    1086       825            210     20    13       16   \n",
              "25656     25662    1086       848              3     23    17       17   \n",
              "25657     25663    1086       849              3      6    19       18   \n",
              "25658     25664    1086       852            213     22    16       19   \n",
              "25659     25665    1086       822             51     77     8       20   \n",
              "\n",
              "      positionText  positionOrder  points  laps time milliseconds fastestLap  \\\n",
              "25655           16             16     0.0    69   \\N           \\N         37   \n",
              "25656           17             17     0.0    69   \\N           \\N         43   \n",
              "25657           18             18     0.0    69   \\N           \\N         60   \n",
              "25658           19             19     0.0    68   \\N           \\N         58   \n",
              "25659           20             20     0.0    65   \\N           \\N         60   \n",
              "\n",
              "      rank fastestLapTime fastestLapSpeed  statusId  \n",
              "25655   15       1:23.511         188.856        11  \n",
              "25656   12       1:23.047         189.911        11  \n",
              "25657    8       1:22.478         191.221        11  \n",
              "25658   16       1:23.538         188.795        12  \n",
              "25659   19       1:24.002         187.752       131  "
            ],
            "text/html": [
              "\n",
              "  <div id=\"df-ededf1d5-308d-4518-b28a-dc42323d6019\">\n",
              "    <div class=\"colab-df-container\">\n",
              "      <div>\n",
              "<style scoped>\n",
              "    .dataframe tbody tr th:only-of-type {\n",
              "        vertical-align: middle;\n",
              "    }\n",
              "\n",
              "    .dataframe tbody tr th {\n",
              "        vertical-align: top;\n",
              "    }\n",
              "\n",
              "    .dataframe thead th {\n",
              "        text-align: right;\n",
              "    }\n",
              "</style>\n",
              "<table border=\"1\" class=\"dataframe\">\n",
              "  <thead>\n",
              "    <tr style=\"text-align: right;\">\n",
              "      <th></th>\n",
              "      <th>resultId</th>\n",
              "      <th>raceId</th>\n",
              "      <th>driverId</th>\n",
              "      <th>constructorId</th>\n",
              "      <th>number</th>\n",
              "      <th>grid</th>\n",
              "      <th>position</th>\n",
              "      <th>positionText</th>\n",
              "      <th>positionOrder</th>\n",
              "      <th>points</th>\n",
              "      <th>laps</th>\n",
              "      <th>time</th>\n",
              "      <th>milliseconds</th>\n",
              "      <th>fastestLap</th>\n",
              "      <th>rank</th>\n",
              "      <th>fastestLapTime</th>\n",
              "      <th>fastestLapSpeed</th>\n",
              "      <th>statusId</th>\n",
              "    </tr>\n",
              "  </thead>\n",
              "  <tbody>\n",
              "    <tr>\n",
              "      <th>25655</th>\n",
              "      <td>25661</td>\n",
              "      <td>1086</td>\n",
              "      <td>825</td>\n",
              "      <td>210</td>\n",
              "      <td>20</td>\n",
              "      <td>13</td>\n",
              "      <td>16</td>\n",
              "      <td>16</td>\n",
              "      <td>16</td>\n",
              "      <td>0.0</td>\n",
              "      <td>69</td>\n",
              "      <td>\\N</td>\n",
              "      <td>\\N</td>\n",
              "      <td>37</td>\n",
              "      <td>15</td>\n",
              "      <td>1:23.511</td>\n",
              "      <td>188.856</td>\n",
              "      <td>11</td>\n",
              "    </tr>\n",
              "    <tr>\n",
              "      <th>25656</th>\n",
              "      <td>25662</td>\n",
              "      <td>1086</td>\n",
              "      <td>848</td>\n",
              "      <td>3</td>\n",
              "      <td>23</td>\n",
              "      <td>17</td>\n",
              "      <td>17</td>\n",
              "      <td>17</td>\n",
              "      <td>17</td>\n",
              "      <td>0.0</td>\n",
              "      <td>69</td>\n",
              "      <td>\\N</td>\n",
              "      <td>\\N</td>\n",
              "      <td>43</td>\n",
              "      <td>12</td>\n",
              "      <td>1:23.047</td>\n",
              "      <td>189.911</td>\n",
              "      <td>11</td>\n",
              "    </tr>\n",
              "    <tr>\n",
              "      <th>25657</th>\n",
              "      <td>25663</td>\n",
              "      <td>1086</td>\n",
              "      <td>849</td>\n",
              "      <td>3</td>\n",
              "      <td>6</td>\n",
              "      <td>19</td>\n",
              "      <td>18</td>\n",
              "      <td>18</td>\n",
              "      <td>18</td>\n",
              "      <td>0.0</td>\n",
              "      <td>69</td>\n",
              "      <td>\\N</td>\n",
              "      <td>\\N</td>\n",
              "      <td>60</td>\n",
              "      <td>8</td>\n",
              "      <td>1:22.478</td>\n",
              "      <td>191.221</td>\n",
              "      <td>11</td>\n",
              "    </tr>\n",
              "    <tr>\n",
              "      <th>25658</th>\n",
              "      <td>25664</td>\n",
              "      <td>1086</td>\n",
              "      <td>852</td>\n",
              "      <td>213</td>\n",
              "      <td>22</td>\n",
              "      <td>16</td>\n",
              "      <td>19</td>\n",
              "      <td>19</td>\n",
              "      <td>19</td>\n",
              "      <td>0.0</td>\n",
              "      <td>68</td>\n",
              "      <td>\\N</td>\n",
              "      <td>\\N</td>\n",
              "      <td>58</td>\n",
              "      <td>16</td>\n",
              "      <td>1:23.538</td>\n",
              "      <td>188.795</td>\n",
              "      <td>12</td>\n",
              "    </tr>\n",
              "    <tr>\n",
              "      <th>25659</th>\n",
              "      <td>25665</td>\n",
              "      <td>1086</td>\n",
              "      <td>822</td>\n",
              "      <td>51</td>\n",
              "      <td>77</td>\n",
              "      <td>8</td>\n",
              "      <td>20</td>\n",
              "      <td>20</td>\n",
              "      <td>20</td>\n",
              "      <td>0.0</td>\n",
              "      <td>65</td>\n",
              "      <td>\\N</td>\n",
              "      <td>\\N</td>\n",
              "      <td>60</td>\n",
              "      <td>19</td>\n",
              "      <td>1:24.002</td>\n",
              "      <td>187.752</td>\n",
              "      <td>131</td>\n",
              "    </tr>\n",
              "  </tbody>\n",
              "</table>\n",
              "</div>\n",
              "      <button class=\"colab-df-convert\" onclick=\"convertToInteractive('df-ededf1d5-308d-4518-b28a-dc42323d6019')\"\n",
              "              title=\"Convert this dataframe to an interactive table.\"\n",
              "              style=\"display:none;\">\n",
              "        \n",
              "  <svg xmlns=\"http://www.w3.org/2000/svg\" height=\"24px\"viewBox=\"0 0 24 24\"\n",
              "       width=\"24px\">\n",
              "    <path d=\"M0 0h24v24H0V0z\" fill=\"none\"/>\n",
              "    <path d=\"M18.56 5.44l.94 2.06.94-2.06 2.06-.94-2.06-.94-.94-2.06-.94 2.06-2.06.94zm-11 1L8.5 8.5l.94-2.06 2.06-.94-2.06-.94L8.5 2.5l-.94 2.06-2.06.94zm10 10l.94 2.06.94-2.06 2.06-.94-2.06-.94-.94-2.06-.94 2.06-2.06.94z\"/><path d=\"M17.41 7.96l-1.37-1.37c-.4-.4-.92-.59-1.43-.59-.52 0-1.04.2-1.43.59L10.3 9.45l-7.72 7.72c-.78.78-.78 2.05 0 2.83L4 21.41c.39.39.9.59 1.41.59.51 0 1.02-.2 1.41-.59l7.78-7.78 2.81-2.81c.8-.78.8-2.07 0-2.86zM5.41 20L4 18.59l7.72-7.72 1.47 1.35L5.41 20z\"/>\n",
              "  </svg>\n",
              "      </button>\n",
              "      \n",
              "  <style>\n",
              "    .colab-df-container {\n",
              "      display:flex;\n",
              "      flex-wrap:wrap;\n",
              "      gap: 12px;\n",
              "    }\n",
              "\n",
              "    .colab-df-convert {\n",
              "      background-color: #E8F0FE;\n",
              "      border: none;\n",
              "      border-radius: 50%;\n",
              "      cursor: pointer;\n",
              "      display: none;\n",
              "      fill: #1967D2;\n",
              "      height: 32px;\n",
              "      padding: 0 0 0 0;\n",
              "      width: 32px;\n",
              "    }\n",
              "\n",
              "    .colab-df-convert:hover {\n",
              "      background-color: #E2EBFA;\n",
              "      box-shadow: 0px 1px 2px rgba(60, 64, 67, 0.3), 0px 1px 3px 1px rgba(60, 64, 67, 0.15);\n",
              "      fill: #174EA6;\n",
              "    }\n",
              "\n",
              "    [theme=dark] .colab-df-convert {\n",
              "      background-color: #3B4455;\n",
              "      fill: #D2E3FC;\n",
              "    }\n",
              "\n",
              "    [theme=dark] .colab-df-convert:hover {\n",
              "      background-color: #434B5C;\n",
              "      box-shadow: 0px 1px 3px 1px rgba(0, 0, 0, 0.15);\n",
              "      filter: drop-shadow(0px 1px 2px rgba(0, 0, 0, 0.3));\n",
              "      fill: #FFFFFF;\n",
              "    }\n",
              "  </style>\n",
              "\n",
              "      <script>\n",
              "        const buttonEl =\n",
              "          document.querySelector('#df-ededf1d5-308d-4518-b28a-dc42323d6019 button.colab-df-convert');\n",
              "        buttonEl.style.display =\n",
              "          google.colab.kernel.accessAllowed ? 'block' : 'none';\n",
              "\n",
              "        async function convertToInteractive(key) {\n",
              "          const element = document.querySelector('#df-ededf1d5-308d-4518-b28a-dc42323d6019');\n",
              "          const dataTable =\n",
              "            await google.colab.kernel.invokeFunction('convertToInteractive',\n",
              "                                                     [key], {});\n",
              "          if (!dataTable) return;\n",
              "\n",
              "          const docLinkHtml = 'Like what you see? Visit the ' +\n",
              "            '<a target=\"_blank\" href=https://colab.research.google.com/notebooks/data_table.ipynb>data table notebook</a>'\n",
              "            + ' to learn more about interactive tables.';\n",
              "          element.innerHTML = '';\n",
              "          dataTable['output_type'] = 'display_data';\n",
              "          await google.colab.output.renderOutput(dataTable, element);\n",
              "          const docLink = document.createElement('div');\n",
              "          docLink.innerHTML = docLinkHtml;\n",
              "          element.appendChild(docLink);\n",
              "        }\n",
              "      </script>\n",
              "    </div>\n",
              "  </div>\n",
              "  "
            ]
          },
          "metadata": {},
          "execution_count": 21
        }
      ]
    },
    {
      "cell_type": "markdown",
      "source": [
        "> Formula 1 Data Columns\n",
        "- resultId\n",
        "- raceId, races.csv\n",
        "- driverId, drivers.csv\n",
        "- constructorId, Car Constructor, constructors.csv\n",
        "- number, Car Number\n",
        "- grid, Position in starting grid\n",
        "- position, Final position\n",
        "- positionText, Final position in text\n",
        "- positionOrder, Final rank\n",
        "- points\n",
        "- laps\n",
        "- time *(Remove)*\n",
        "- milliseconds *(Remove)*\n",
        "- fastestLap *(Remove)*\n",
        "- rank\n",
        "- fastestLapTime *(Remove)*\n",
        "- fastestLapSpeed\n",
        "- statusId, position status, status.csv"
      ],
      "metadata": {
        "id": "tnXv1I1dwDNB"
      }
    },
    {
      "cell_type": "markdown",
      "source": [
        "##3. What is the target?\n",
        "- The target column will be the position column. Target question would be predicting what driver will make podium. "
      ],
      "metadata": {
        "id": "llfDSri_0Qy3"
      }
    },
    {
      "cell_type": "markdown",
      "source": [
        "##4. Is this a classification or regression problem?\n",
        "- The positions column is Ordinal thus this is a classification problem. "
      ],
      "metadata": {
        "id": "gbf0_a660t2f"
      }
    },
    {
      "cell_type": "markdown",
      "source": [
        "##5&6. How many features and rows?\n",
        "- Removing any time series columns.\n",
        "- resultId was also removed because it is redundant."
      ],
      "metadata": {
        "id": "NM75oGjR18YP"
      }
    },
    {
      "cell_type": "code",
      "source": [
        "df1c = df1.drop(columns = ['resultId','time','milliseconds','fastestLap','fastestLapTime'])\n",
        "df1c.tail(10)"
      ],
      "metadata": {
        "colab": {
          "base_uri": "https://localhost:8080/",
          "height": 359
        },
        "id": "EB73dQiy1Ph7",
        "outputId": "4f12fc35-4749-4188-b024-db37390a5af6"
      },
      "execution_count": 29,
      "outputs": [
        {
          "output_type": "execute_result",
          "data": {
            "text/plain": [
              "       raceId  driverId  constructorId number  grid position positionText  \\\n",
              "25650    1086       840            117     18    14       11           11   \n",
              "25651    1086       842            213     10     0       12           12   \n",
              "25652    1086       855             51     24    12       13           13   \n",
              "25653    1086       854            210     47    15       14           14   \n",
              "25654    1086       817              1      3     9       15           15   \n",
              "25655    1086       825            210     20    13       16           16   \n",
              "25656    1086       848              3     23    17       17           17   \n",
              "25657    1086       849              3      6    19       18           18   \n",
              "25658    1086       852            213     22    16       19           19   \n",
              "25659    1086       822             51     77     8       20           20   \n",
              "\n",
              "       positionOrder  points  laps rank fastestLapSpeed  statusId  \n",
              "25650             11     0.0    69    7         191.317        11  \n",
              "25651             12     0.0    69   14         189.564        11  \n",
              "25652             13     0.0    69    5         192.268        11  \n",
              "25653             14     0.0    69   13         189.674        11  \n",
              "25654             15     0.0    69   17         188.533        11  \n",
              "25655             16     0.0    69   15         188.856        11  \n",
              "25656             17     0.0    69   12         189.911        11  \n",
              "25657             18     0.0    69    8         191.221        11  \n",
              "25658             19     0.0    68   16         188.795        12  \n",
              "25659             20     0.0    65   19         187.752       131  "
            ],
            "text/html": [
              "\n",
              "  <div id=\"df-6af3c03e-65e6-46db-afa6-4452c07af078\">\n",
              "    <div class=\"colab-df-container\">\n",
              "      <div>\n",
              "<style scoped>\n",
              "    .dataframe tbody tr th:only-of-type {\n",
              "        vertical-align: middle;\n",
              "    }\n",
              "\n",
              "    .dataframe tbody tr th {\n",
              "        vertical-align: top;\n",
              "    }\n",
              "\n",
              "    .dataframe thead th {\n",
              "        text-align: right;\n",
              "    }\n",
              "</style>\n",
              "<table border=\"1\" class=\"dataframe\">\n",
              "  <thead>\n",
              "    <tr style=\"text-align: right;\">\n",
              "      <th></th>\n",
              "      <th>raceId</th>\n",
              "      <th>driverId</th>\n",
              "      <th>constructorId</th>\n",
              "      <th>number</th>\n",
              "      <th>grid</th>\n",
              "      <th>position</th>\n",
              "      <th>positionText</th>\n",
              "      <th>positionOrder</th>\n",
              "      <th>points</th>\n",
              "      <th>laps</th>\n",
              "      <th>rank</th>\n",
              "      <th>fastestLapSpeed</th>\n",
              "      <th>statusId</th>\n",
              "    </tr>\n",
              "  </thead>\n",
              "  <tbody>\n",
              "    <tr>\n",
              "      <th>25650</th>\n",
              "      <td>1086</td>\n",
              "      <td>840</td>\n",
              "      <td>117</td>\n",
              "      <td>18</td>\n",
              "      <td>14</td>\n",
              "      <td>11</td>\n",
              "      <td>11</td>\n",
              "      <td>11</td>\n",
              "      <td>0.0</td>\n",
              "      <td>69</td>\n",
              "      <td>7</td>\n",
              "      <td>191.317</td>\n",
              "      <td>11</td>\n",
              "    </tr>\n",
              "    <tr>\n",
              "      <th>25651</th>\n",
              "      <td>1086</td>\n",
              "      <td>842</td>\n",
              "      <td>213</td>\n",
              "      <td>10</td>\n",
              "      <td>0</td>\n",
              "      <td>12</td>\n",
              "      <td>12</td>\n",
              "      <td>12</td>\n",
              "      <td>0.0</td>\n",
              "      <td>69</td>\n",
              "      <td>14</td>\n",
              "      <td>189.564</td>\n",
              "      <td>11</td>\n",
              "    </tr>\n",
              "    <tr>\n",
              "      <th>25652</th>\n",
              "      <td>1086</td>\n",
              "      <td>855</td>\n",
              "      <td>51</td>\n",
              "      <td>24</td>\n",
              "      <td>12</td>\n",
              "      <td>13</td>\n",
              "      <td>13</td>\n",
              "      <td>13</td>\n",
              "      <td>0.0</td>\n",
              "      <td>69</td>\n",
              "      <td>5</td>\n",
              "      <td>192.268</td>\n",
              "      <td>11</td>\n",
              "    </tr>\n",
              "    <tr>\n",
              "      <th>25653</th>\n",
              "      <td>1086</td>\n",
              "      <td>854</td>\n",
              "      <td>210</td>\n",
              "      <td>47</td>\n",
              "      <td>15</td>\n",
              "      <td>14</td>\n",
              "      <td>14</td>\n",
              "      <td>14</td>\n",
              "      <td>0.0</td>\n",
              "      <td>69</td>\n",
              "      <td>13</td>\n",
              "      <td>189.674</td>\n",
              "      <td>11</td>\n",
              "    </tr>\n",
              "    <tr>\n",
              "      <th>25654</th>\n",
              "      <td>1086</td>\n",
              "      <td>817</td>\n",
              "      <td>1</td>\n",
              "      <td>3</td>\n",
              "      <td>9</td>\n",
              "      <td>15</td>\n",
              "      <td>15</td>\n",
              "      <td>15</td>\n",
              "      <td>0.0</td>\n",
              "      <td>69</td>\n",
              "      <td>17</td>\n",
              "      <td>188.533</td>\n",
              "      <td>11</td>\n",
              "    </tr>\n",
              "    <tr>\n",
              "      <th>25655</th>\n",
              "      <td>1086</td>\n",
              "      <td>825</td>\n",
              "      <td>210</td>\n",
              "      <td>20</td>\n",
              "      <td>13</td>\n",
              "      <td>16</td>\n",
              "      <td>16</td>\n",
              "      <td>16</td>\n",
              "      <td>0.0</td>\n",
              "      <td>69</td>\n",
              "      <td>15</td>\n",
              "      <td>188.856</td>\n",
              "      <td>11</td>\n",
              "    </tr>\n",
              "    <tr>\n",
              "      <th>25656</th>\n",
              "      <td>1086</td>\n",
              "      <td>848</td>\n",
              "      <td>3</td>\n",
              "      <td>23</td>\n",
              "      <td>17</td>\n",
              "      <td>17</td>\n",
              "      <td>17</td>\n",
              "      <td>17</td>\n",
              "      <td>0.0</td>\n",
              "      <td>69</td>\n",
              "      <td>12</td>\n",
              "      <td>189.911</td>\n",
              "      <td>11</td>\n",
              "    </tr>\n",
              "    <tr>\n",
              "      <th>25657</th>\n",
              "      <td>1086</td>\n",
              "      <td>849</td>\n",
              "      <td>3</td>\n",
              "      <td>6</td>\n",
              "      <td>19</td>\n",
              "      <td>18</td>\n",
              "      <td>18</td>\n",
              "      <td>18</td>\n",
              "      <td>0.0</td>\n",
              "      <td>69</td>\n",
              "      <td>8</td>\n",
              "      <td>191.221</td>\n",
              "      <td>11</td>\n",
              "    </tr>\n",
              "    <tr>\n",
              "      <th>25658</th>\n",
              "      <td>1086</td>\n",
              "      <td>852</td>\n",
              "      <td>213</td>\n",
              "      <td>22</td>\n",
              "      <td>16</td>\n",
              "      <td>19</td>\n",
              "      <td>19</td>\n",
              "      <td>19</td>\n",
              "      <td>0.0</td>\n",
              "      <td>68</td>\n",
              "      <td>16</td>\n",
              "      <td>188.795</td>\n",
              "      <td>12</td>\n",
              "    </tr>\n",
              "    <tr>\n",
              "      <th>25659</th>\n",
              "      <td>1086</td>\n",
              "      <td>822</td>\n",
              "      <td>51</td>\n",
              "      <td>77</td>\n",
              "      <td>8</td>\n",
              "      <td>20</td>\n",
              "      <td>20</td>\n",
              "      <td>20</td>\n",
              "      <td>0.0</td>\n",
              "      <td>65</td>\n",
              "      <td>19</td>\n",
              "      <td>187.752</td>\n",
              "      <td>131</td>\n",
              "    </tr>\n",
              "  </tbody>\n",
              "</table>\n",
              "</div>\n",
              "      <button class=\"colab-df-convert\" onclick=\"convertToInteractive('df-6af3c03e-65e6-46db-afa6-4452c07af078')\"\n",
              "              title=\"Convert this dataframe to an interactive table.\"\n",
              "              style=\"display:none;\">\n",
              "        \n",
              "  <svg xmlns=\"http://www.w3.org/2000/svg\" height=\"24px\"viewBox=\"0 0 24 24\"\n",
              "       width=\"24px\">\n",
              "    <path d=\"M0 0h24v24H0V0z\" fill=\"none\"/>\n",
              "    <path d=\"M18.56 5.44l.94 2.06.94-2.06 2.06-.94-2.06-.94-.94-2.06-.94 2.06-2.06.94zm-11 1L8.5 8.5l.94-2.06 2.06-.94-2.06-.94L8.5 2.5l-.94 2.06-2.06.94zm10 10l.94 2.06.94-2.06 2.06-.94-2.06-.94-.94-2.06-.94 2.06-2.06.94z\"/><path d=\"M17.41 7.96l-1.37-1.37c-.4-.4-.92-.59-1.43-.59-.52 0-1.04.2-1.43.59L10.3 9.45l-7.72 7.72c-.78.78-.78 2.05 0 2.83L4 21.41c.39.39.9.59 1.41.59.51 0 1.02-.2 1.41-.59l7.78-7.78 2.81-2.81c.8-.78.8-2.07 0-2.86zM5.41 20L4 18.59l7.72-7.72 1.47 1.35L5.41 20z\"/>\n",
              "  </svg>\n",
              "      </button>\n",
              "      \n",
              "  <style>\n",
              "    .colab-df-container {\n",
              "      display:flex;\n",
              "      flex-wrap:wrap;\n",
              "      gap: 12px;\n",
              "    }\n",
              "\n",
              "    .colab-df-convert {\n",
              "      background-color: #E8F0FE;\n",
              "      border: none;\n",
              "      border-radius: 50%;\n",
              "      cursor: pointer;\n",
              "      display: none;\n",
              "      fill: #1967D2;\n",
              "      height: 32px;\n",
              "      padding: 0 0 0 0;\n",
              "      width: 32px;\n",
              "    }\n",
              "\n",
              "    .colab-df-convert:hover {\n",
              "      background-color: #E2EBFA;\n",
              "      box-shadow: 0px 1px 2px rgba(60, 64, 67, 0.3), 0px 1px 3px 1px rgba(60, 64, 67, 0.15);\n",
              "      fill: #174EA6;\n",
              "    }\n",
              "\n",
              "    [theme=dark] .colab-df-convert {\n",
              "      background-color: #3B4455;\n",
              "      fill: #D2E3FC;\n",
              "    }\n",
              "\n",
              "    [theme=dark] .colab-df-convert:hover {\n",
              "      background-color: #434B5C;\n",
              "      box-shadow: 0px 1px 3px 1px rgba(0, 0, 0, 0.15);\n",
              "      filter: drop-shadow(0px 1px 2px rgba(0, 0, 0, 0.3));\n",
              "      fill: #FFFFFF;\n",
              "    }\n",
              "  </style>\n",
              "\n",
              "      <script>\n",
              "        const buttonEl =\n",
              "          document.querySelector('#df-6af3c03e-65e6-46db-afa6-4452c07af078 button.colab-df-convert');\n",
              "        buttonEl.style.display =\n",
              "          google.colab.kernel.accessAllowed ? 'block' : 'none';\n",
              "\n",
              "        async function convertToInteractive(key) {\n",
              "          const element = document.querySelector('#df-6af3c03e-65e6-46db-afa6-4452c07af078');\n",
              "          const dataTable =\n",
              "            await google.colab.kernel.invokeFunction('convertToInteractive',\n",
              "                                                     [key], {});\n",
              "          if (!dataTable) return;\n",
              "\n",
              "          const docLinkHtml = 'Like what you see? Visit the ' +\n",
              "            '<a target=\"_blank\" href=https://colab.research.google.com/notebooks/data_table.ipynb>data table notebook</a>'\n",
              "            + ' to learn more about interactive tables.';\n",
              "          element.innerHTML = '';\n",
              "          dataTable['output_type'] = 'display_data';\n",
              "          await google.colab.output.renderOutput(dataTable, element);\n",
              "          const docLink = document.createElement('div');\n",
              "          docLink.innerHTML = docLinkHtml;\n",
              "          element.appendChild(docLink);\n",
              "        }\n",
              "      </script>\n",
              "    </div>\n",
              "  </div>\n",
              "  "
            ]
          },
          "metadata": {},
          "execution_count": 29
        }
      ]
    },
    {
      "cell_type": "code",
      "source": [
        "df1c.isna().sum()"
      ],
      "metadata": {
        "colab": {
          "base_uri": "https://localhost:8080/"
        },
        "id": "0Iegc5bQ7_WX",
        "outputId": "16a81057-8939-45da-aad4-c7b861fe9a38"
      },
      "execution_count": 30,
      "outputs": [
        {
          "output_type": "execute_result",
          "data": {
            "text/plain": [
              "raceId             0\n",
              "driverId           0\n",
              "constructorId      0\n",
              "number             0\n",
              "grid               0\n",
              "position           0\n",
              "positionText       0\n",
              "positionOrder      0\n",
              "points             0\n",
              "laps               0\n",
              "rank               0\n",
              "fastestLapSpeed    0\n",
              "statusId           0\n",
              "dtype: int64"
            ]
          },
          "metadata": {},
          "execution_count": 30
        }
      ]
    },
    {
      "cell_type": "code",
      "source": [
        "df1c.duplicated().sum()"
      ],
      "metadata": {
        "colab": {
          "base_uri": "https://localhost:8080/"
        },
        "id": "8_4lnmmT8F0c",
        "outputId": "7b6c2192-2258-4254-f7b6-fbb77529326a"
      },
      "execution_count": 31,
      "outputs": [
        {
          "output_type": "execute_result",
          "data": {
            "text/plain": [
              "0"
            ]
          },
          "metadata": {},
          "execution_count": 31
        }
      ]
    },
    {
      "cell_type": "markdown",
      "source": [
        ">No missing or duplicated data."
      ],
      "metadata": {
        "id": "d-bbrcgb8IxU"
      }
    },
    {
      "cell_type": "code",
      "source": [
        "df1c.shape"
      ],
      "metadata": {
        "colab": {
          "base_uri": "https://localhost:8080/"
        },
        "id": "uECn9Fza3tpy",
        "outputId": "647a75cd-2f42-42e5-bed3-252224b05102"
      },
      "execution_count": 20,
      "outputs": [
        {
          "output_type": "execute_result",
          "data": {
            "text/plain": [
              "(25660, 13)"
            ]
          },
          "metadata": {},
          "execution_count": 20
        }
      ]
    },
    {
      "cell_type": "markdown",
      "source": [
        "> There are 13 columns and 25,600 rows of data."
      ],
      "metadata": {
        "id": "oL9hOQ1636ky"
      }
    },
    {
      "cell_type": "markdown",
      "source": [
        "##7. What, if any, challenges do your foresee in cleaning, exploring, or modeling with this dataset?\n",
        "> From a first glance, this dataset contains the id number and requires a different dataset to reference. This can also be resolved with a OneHotEncoder."
      ],
      "metadata": {
        "id": "z5sT2nBUspzP"
      }
    },
    {
      "cell_type": "markdown",
      "source": [
        "#DataSet 2"
      ],
      "metadata": {
        "id": "kZJMz7xesAu5"
      }
    },
    {
      "cell_type": "markdown",
      "source": [
        "##1. Souce of data\n",
        "- Netflix popular movies dataset\n",
        "- https://www.kaggle.com/datasets/narayan63/netflix-popular-movies-dataset "
      ],
      "metadata": {
        "id": "tdqA1Qoa5N1L"
      }
    },
    {
      "cell_type": "markdown",
      "source": [
        "##2. Brief description of data\n",
        "- This data is a list of tv shows and movies that are available on Netflix. \n",
        "- The data also includes the movie/tv title, year, certificate (TV rating), duration, genre, rating on IMDB, description of movies, cast, and number of voters."
      ],
      "metadata": {
        "id": "DnjbDaI15ZC1"
      }
    },
    {
      "cell_type": "code",
      "source": [
        "filename = '/content/drive/MyDrive/Coding Dojo/Project 2/n_movies.csv'\n",
        "df2 = pd.read_csv(filename)\n",
        "df2.head()"
      ],
      "metadata": {
        "colab": {
          "base_uri": "https://localhost:8080/",
          "height": 333
        },
        "id": "7dR0_wOCsITA",
        "outputId": "7f4219ad-22ad-4bf9-9bb8-70bee14387e5"
      },
      "execution_count": 27,
      "outputs": [
        {
          "output_type": "execute_result",
          "data": {
            "text/plain": [
              "                    title         year certificate duration  \\\n",
              "0               Cobra Kai     (2018– )       TV-14   30 min   \n",
              "1               The Crown     (2016– )       TV-MA   58 min   \n",
              "2        Better Call Saul  (2015–2022)       TV-MA   46 min   \n",
              "3           Devil in Ohio       (2022)       TV-MA  356 min   \n",
              "4  Cyberpunk: Edgerunners     (2022– )       TV-MA   24 min   \n",
              "\n",
              "                          genre  rating  \\\n",
              "0         Action, Comedy, Drama     8.5   \n",
              "1     Biography, Drama, History     8.7   \n",
              "2                  Crime, Drama     8.9   \n",
              "3        Drama, Horror, Mystery     5.9   \n",
              "4  Animation, Action, Adventure     8.6   \n",
              "\n",
              "                                         description  \\\n",
              "0  Decades after their 1984 All Valley Karate Tou...   \n",
              "1  Follows the political rivalries and romance of...   \n",
              "2  The trials and tribulations of criminal lawyer...   \n",
              "3  When a psychiatrist shelters a mysterious cult...   \n",
              "4  A Street Kid trying to survive in a technology...   \n",
              "\n",
              "                                               stars    votes  \n",
              "0  ['Ralph Macchio, ', 'William Zabka, ', 'Courtn...  177,031  \n",
              "1  ['Claire Foy, ', 'Olivia Colman, ', 'Imelda St...  199,885  \n",
              "2  ['Bob Odenkirk, ', 'Rhea Seehorn, ', 'Jonathan...  501,384  \n",
              "3  ['Emily Deschanel, ', 'Sam Jaeger, ', 'Gerardo...    9,773  \n",
              "4  ['Zach Aguilar, ', 'Kenichiro Ohashi, ', 'Emi ...   15,413  "
            ],
            "text/html": [
              "\n",
              "  <div id=\"df-7e87f929-41fc-4361-9be7-81ed2d8b1b26\">\n",
              "    <div class=\"colab-df-container\">\n",
              "      <div>\n",
              "<style scoped>\n",
              "    .dataframe tbody tr th:only-of-type {\n",
              "        vertical-align: middle;\n",
              "    }\n",
              "\n",
              "    .dataframe tbody tr th {\n",
              "        vertical-align: top;\n",
              "    }\n",
              "\n",
              "    .dataframe thead th {\n",
              "        text-align: right;\n",
              "    }\n",
              "</style>\n",
              "<table border=\"1\" class=\"dataframe\">\n",
              "  <thead>\n",
              "    <tr style=\"text-align: right;\">\n",
              "      <th></th>\n",
              "      <th>title</th>\n",
              "      <th>year</th>\n",
              "      <th>certificate</th>\n",
              "      <th>duration</th>\n",
              "      <th>genre</th>\n",
              "      <th>rating</th>\n",
              "      <th>description</th>\n",
              "      <th>stars</th>\n",
              "      <th>votes</th>\n",
              "    </tr>\n",
              "  </thead>\n",
              "  <tbody>\n",
              "    <tr>\n",
              "      <th>0</th>\n",
              "      <td>Cobra Kai</td>\n",
              "      <td>(2018– )</td>\n",
              "      <td>TV-14</td>\n",
              "      <td>30 min</td>\n",
              "      <td>Action, Comedy, Drama</td>\n",
              "      <td>8.5</td>\n",
              "      <td>Decades after their 1984 All Valley Karate Tou...</td>\n",
              "      <td>['Ralph Macchio, ', 'William Zabka, ', 'Courtn...</td>\n",
              "      <td>177,031</td>\n",
              "    </tr>\n",
              "    <tr>\n",
              "      <th>1</th>\n",
              "      <td>The Crown</td>\n",
              "      <td>(2016– )</td>\n",
              "      <td>TV-MA</td>\n",
              "      <td>58 min</td>\n",
              "      <td>Biography, Drama, History</td>\n",
              "      <td>8.7</td>\n",
              "      <td>Follows the political rivalries and romance of...</td>\n",
              "      <td>['Claire Foy, ', 'Olivia Colman, ', 'Imelda St...</td>\n",
              "      <td>199,885</td>\n",
              "    </tr>\n",
              "    <tr>\n",
              "      <th>2</th>\n",
              "      <td>Better Call Saul</td>\n",
              "      <td>(2015–2022)</td>\n",
              "      <td>TV-MA</td>\n",
              "      <td>46 min</td>\n",
              "      <td>Crime, Drama</td>\n",
              "      <td>8.9</td>\n",
              "      <td>The trials and tribulations of criminal lawyer...</td>\n",
              "      <td>['Bob Odenkirk, ', 'Rhea Seehorn, ', 'Jonathan...</td>\n",
              "      <td>501,384</td>\n",
              "    </tr>\n",
              "    <tr>\n",
              "      <th>3</th>\n",
              "      <td>Devil in Ohio</td>\n",
              "      <td>(2022)</td>\n",
              "      <td>TV-MA</td>\n",
              "      <td>356 min</td>\n",
              "      <td>Drama, Horror, Mystery</td>\n",
              "      <td>5.9</td>\n",
              "      <td>When a psychiatrist shelters a mysterious cult...</td>\n",
              "      <td>['Emily Deschanel, ', 'Sam Jaeger, ', 'Gerardo...</td>\n",
              "      <td>9,773</td>\n",
              "    </tr>\n",
              "    <tr>\n",
              "      <th>4</th>\n",
              "      <td>Cyberpunk: Edgerunners</td>\n",
              "      <td>(2022– )</td>\n",
              "      <td>TV-MA</td>\n",
              "      <td>24 min</td>\n",
              "      <td>Animation, Action, Adventure</td>\n",
              "      <td>8.6</td>\n",
              "      <td>A Street Kid trying to survive in a technology...</td>\n",
              "      <td>['Zach Aguilar, ', 'Kenichiro Ohashi, ', 'Emi ...</td>\n",
              "      <td>15,413</td>\n",
              "    </tr>\n",
              "  </tbody>\n",
              "</table>\n",
              "</div>\n",
              "      <button class=\"colab-df-convert\" onclick=\"convertToInteractive('df-7e87f929-41fc-4361-9be7-81ed2d8b1b26')\"\n",
              "              title=\"Convert this dataframe to an interactive table.\"\n",
              "              style=\"display:none;\">\n",
              "        \n",
              "  <svg xmlns=\"http://www.w3.org/2000/svg\" height=\"24px\"viewBox=\"0 0 24 24\"\n",
              "       width=\"24px\">\n",
              "    <path d=\"M0 0h24v24H0V0z\" fill=\"none\"/>\n",
              "    <path d=\"M18.56 5.44l.94 2.06.94-2.06 2.06-.94-2.06-.94-.94-2.06-.94 2.06-2.06.94zm-11 1L8.5 8.5l.94-2.06 2.06-.94-2.06-.94L8.5 2.5l-.94 2.06-2.06.94zm10 10l.94 2.06.94-2.06 2.06-.94-2.06-.94-.94-2.06-.94 2.06-2.06.94z\"/><path d=\"M17.41 7.96l-1.37-1.37c-.4-.4-.92-.59-1.43-.59-.52 0-1.04.2-1.43.59L10.3 9.45l-7.72 7.72c-.78.78-.78 2.05 0 2.83L4 21.41c.39.39.9.59 1.41.59.51 0 1.02-.2 1.41-.59l7.78-7.78 2.81-2.81c.8-.78.8-2.07 0-2.86zM5.41 20L4 18.59l7.72-7.72 1.47 1.35L5.41 20z\"/>\n",
              "  </svg>\n",
              "      </button>\n",
              "      \n",
              "  <style>\n",
              "    .colab-df-container {\n",
              "      display:flex;\n",
              "      flex-wrap:wrap;\n",
              "      gap: 12px;\n",
              "    }\n",
              "\n",
              "    .colab-df-convert {\n",
              "      background-color: #E8F0FE;\n",
              "      border: none;\n",
              "      border-radius: 50%;\n",
              "      cursor: pointer;\n",
              "      display: none;\n",
              "      fill: #1967D2;\n",
              "      height: 32px;\n",
              "      padding: 0 0 0 0;\n",
              "      width: 32px;\n",
              "    }\n",
              "\n",
              "    .colab-df-convert:hover {\n",
              "      background-color: #E2EBFA;\n",
              "      box-shadow: 0px 1px 2px rgba(60, 64, 67, 0.3), 0px 1px 3px 1px rgba(60, 64, 67, 0.15);\n",
              "      fill: #174EA6;\n",
              "    }\n",
              "\n",
              "    [theme=dark] .colab-df-convert {\n",
              "      background-color: #3B4455;\n",
              "      fill: #D2E3FC;\n",
              "    }\n",
              "\n",
              "    [theme=dark] .colab-df-convert:hover {\n",
              "      background-color: #434B5C;\n",
              "      box-shadow: 0px 1px 3px 1px rgba(0, 0, 0, 0.15);\n",
              "      filter: drop-shadow(0px 1px 2px rgba(0, 0, 0, 0.3));\n",
              "      fill: #FFFFFF;\n",
              "    }\n",
              "  </style>\n",
              "\n",
              "      <script>\n",
              "        const buttonEl =\n",
              "          document.querySelector('#df-7e87f929-41fc-4361-9be7-81ed2d8b1b26 button.colab-df-convert');\n",
              "        buttonEl.style.display =\n",
              "          google.colab.kernel.accessAllowed ? 'block' : 'none';\n",
              "\n",
              "        async function convertToInteractive(key) {\n",
              "          const element = document.querySelector('#df-7e87f929-41fc-4361-9be7-81ed2d8b1b26');\n",
              "          const dataTable =\n",
              "            await google.colab.kernel.invokeFunction('convertToInteractive',\n",
              "                                                     [key], {});\n",
              "          if (!dataTable) return;\n",
              "\n",
              "          const docLinkHtml = 'Like what you see? Visit the ' +\n",
              "            '<a target=\"_blank\" href=https://colab.research.google.com/notebooks/data_table.ipynb>data table notebook</a>'\n",
              "            + ' to learn more about interactive tables.';\n",
              "          element.innerHTML = '';\n",
              "          dataTable['output_type'] = 'display_data';\n",
              "          await google.colab.output.renderOutput(dataTable, element);\n",
              "          const docLink = document.createElement('div');\n",
              "          docLink.innerHTML = docLinkHtml;\n",
              "          element.appendChild(docLink);\n",
              "        }\n",
              "      </script>\n",
              "    </div>\n",
              "  </div>\n",
              "  "
            ]
          },
          "metadata": {},
          "execution_count": 27
        }
      ]
    },
    {
      "cell_type": "markdown",
      "source": [
        "##3. What is the target?\n",
        "- The target is the tv/movie IMDB rating."
      ],
      "metadata": {
        "id": "NjzwgDwd6cwc"
      }
    },
    {
      "cell_type": "markdown",
      "source": [
        "##4. Is this a classification or regression problem?\n",
        "- This is a regression problem, which will predict the rating on a continuous scale from 0 to 10."
      ],
      "metadata": {
        "id": "4Pj-LtW77fdN"
      }
    },
    {
      "cell_type": "markdown",
      "source": [
        "##5&6. How many features and rows?\n"
      ],
      "metadata": {
        "id": "DI02l-Q6705U"
      }
    },
    {
      "cell_type": "code",
      "source": [
        "df2c = df2.copy()"
      ],
      "metadata": {
        "id": "1DZjpAGe8R5I"
      },
      "execution_count": 33,
      "outputs": []
    },
    {
      "cell_type": "code",
      "source": [
        "df2c.isna().sum()"
      ],
      "metadata": {
        "colab": {
          "base_uri": "https://localhost:8080/"
        },
        "id": "oCwfQn5Z6TGk",
        "outputId": "ea12f28d-aa75-4783-ed92-f237d6376595"
      },
      "execution_count": 38,
      "outputs": [
        {
          "output_type": "execute_result",
          "data": {
            "text/plain": [
              "title             0\n",
              "year            527\n",
              "certificate    3453\n",
              "duration       2036\n",
              "genre            73\n",
              "rating         1173\n",
              "description       0\n",
              "stars             0\n",
              "votes          1173\n",
              "dtype: int64"
            ]
          },
          "metadata": {},
          "execution_count": 38
        }
      ]
    },
    {
      "cell_type": "code",
      "source": [
        "print(f'Missing ratings data: {round(1173/9957*100,2)}%')"
      ],
      "metadata": {
        "colab": {
          "base_uri": "https://localhost:8080/"
        },
        "id": "kXvz5-kz8ws_",
        "outputId": "a5a8a7e6-d843-4923-9fda-9a3c06e61bb4"
      },
      "execution_count": 46,
      "outputs": [
        {
          "output_type": "stream",
          "name": "stdout",
          "text": [
            "Missing ratings data: 11.78%\n"
          ]
        }
      ]
    },
    {
      "cell_type": "code",
      "source": [
        "df2c.duplicated().sum()"
      ],
      "metadata": {
        "colab": {
          "base_uri": "https://localhost:8080/"
        },
        "id": "cvuI8uJ_72d1",
        "outputId": "27fceb8e-c34a-463a-fd06-4c90006e5c4f"
      },
      "execution_count": 34,
      "outputs": [
        {
          "output_type": "execute_result",
          "data": {
            "text/plain": [
              "0"
            ]
          },
          "metadata": {},
          "execution_count": 34
        }
      ]
    },
    {
      "cell_type": "code",
      "source": [
        "df2c.shape"
      ],
      "metadata": {
        "colab": {
          "base_uri": "https://localhost:8080/"
        },
        "id": "Y5M7Ka--8i9Q",
        "outputId": "aaf76b96-5be1-4b21-9213-dfedec469a47"
      },
      "execution_count": 39,
      "outputs": [
        {
          "output_type": "execute_result",
          "data": {
            "text/plain": [
              "(9957, 9)"
            ]
          },
          "metadata": {},
          "execution_count": 39
        }
      ]
    },
    {
      "cell_type": "markdown",
      "source": [
        "> There are no duplicated data but there are quite a few missing data including the rating columns. If these missing rating data were removed from the dataset, we will still have more than 1,000 rows. The data has 9 columns and 9957 rows."
      ],
      "metadata": {
        "id": "h94LaSre9LpL"
      }
    },
    {
      "cell_type": "markdown",
      "source": [
        "##7. What, if any, challenges do your foresee in cleaning, exploring, or modeling with this dataset?\n",
        "> There are multiple actors listed under cast. We might have to split this into multiple columns. About 12% of the ratings data is missing which is a signification amount. Not sure how to incorporate the description into the predictions just yet."
      ],
      "metadata": {
        "id": "1RVP-Ce5-BAP"
      }
    },
    {
      "cell_type": "markdown",
      "source": [
        "#Other\n",
        "- Apparel Exports to US, https://data.world/makeovermonday/2020w43-apparel-exports-to-us\n",
        "- New York City Airbnb Open Data, https://www.kaggle.com/datasets/dgomonov/new-york-city-airbnb-open-data"
      ],
      "metadata": {
        "id": "6vjuTa3z_Wiu"
      }
    }
  ]
}